{
 "cells": [
  {
   "cell_type": "code",
   "execution_count": 9,
   "id": "8148c5e2",
   "metadata": {},
   "outputs": [
    {
     "name": "stdout",
     "output_type": "stream",
     "text": [
      "****Welcome to the Library management system****\n",
      "Please enter your student id: 1\n",
      "Choose one option!\n",
      "\n",
      "1. Display Available Books\n",
      "2. Borrow a Book\n",
      "3. Return a Book\n",
      "4. Exit\n",
      "Choose your option: 4\n",
      "Exiting the Library Management System. Thank you!\n"
     ]
    }
   ],
   "source": [
    "import time #importing time functionality\n",
    "\n",
    "def library_management_system(): # defining a funcrtion \n",
    "    print('''****Welcome to the Library management system****''')\n",
    "    student_id = int(input(\"Please enter your student id: \"))\n",
    "    if not(1 <= student_id <=9999):\n",
    "        print(\"please re-enter your student id\")\n",
    "        return\n",
    "    \n",
    "    print('''Choose one option!\n",
    "\n",
    "1. Display Available Books\n",
    "2. Borrow a Book\n",
    "3. Return a Book\n",
    "4. Exit''')\n",
    "    \n",
    "    choose = int(input(\"Choose your option: \"))\n",
    "    if choose == 1:\n",
    "        print('''Available Books:\n",
    "\n",
    "1. Book1 - 5 available\n",
    "2. Book2 - 3 available\n",
    "3. Book3 - 7 available\n",
    "4. Book4 - 2 available\n",
    "5. Book5 - 4 available''')\n",
    "    elif choose == 2:\n",
    "        enter_book = input(\"choose the book option you want to borrow: \")\n",
    "        book_quantity = int(input(\"enter the quantity you want to borrow: \"))\n",
    "        print(f\"you have borrowed {book_quantity} copies of {enter_book} \")\n",
    "    elif choose == 3:\n",
    "        book_return = input(\"Enter the title of the book you want to return: \")\n",
    "        book_ret_quan = int(input(\"Enter the quantity you want to return: \"))\n",
    "        print(f\"you have returned {book_ret_quan} copies of {book_return}\")\n",
    "        \n",
    "    elif choose == 4:\n",
    "        print(\"Exiting the Library Management System. Thank you!\")\n",
    "        exit()\n",
    "    else:\n",
    "        time.sleep(10)\n",
    "        exit()\n",
    "        \n",
    "if __name__ == \"__main__\":\n",
    "    library_management_system()\n",
    "        \n",
    "        "
   ]
  },
  {
   "cell_type": "code",
   "execution_count": null,
   "id": "be2fe377",
   "metadata": {},
   "outputs": [],
   "source": []
  }
 ],
 "metadata": {
  "kernelspec": {
   "display_name": "Python 3 (ipykernel)",
   "language": "python",
   "name": "python3"
  },
  "language_info": {
   "codemirror_mode": {
    "name": "ipython",
    "version": 3
   },
   "file_extension": ".py",
   "mimetype": "text/x-python",
   "name": "python",
   "nbconvert_exporter": "python",
   "pygments_lexer": "ipython3",
   "version": "3.11.4"
  }
 },
 "nbformat": 4,
 "nbformat_minor": 5
}
